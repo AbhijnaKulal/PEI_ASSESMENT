{
 "cells": [
  {
   "cell_type": "code",
   "execution_count": 4,
   "metadata": {},
   "outputs": [],
   "source": [
    "import pandas as pd\n",
    "import matplotlib as mlt\n",
    "import seaborn as sns\n"
   ]
  },
  {
   "cell_type": "code",
   "execution_count": 3,
   "metadata": {},
   "outputs": [
    {
     "data": {
      "text/plain": [
       "'d:\\\\SalesAnalysis'"
      ]
     },
     "execution_count": 3,
     "metadata": {},
     "output_type": "execute_result"
    }
   ],
   "source": [
    "import os\n",
    "os.getcwd()"
   ]
  },
  {
   "cell_type": "code",
   "execution_count": 47,
   "metadata": {},
   "outputs": [],
   "source": [
    "customer=pd.read_csv('./RawData/Customer.csv')\n",
    "order=pd.read_csv('./RawData/Order.csv')\n",
    "shipping=pd.read_json('./RawData/Shipping.json')"
   ]
  },
  {
   "cell_type": "code",
   "execution_count": 11,
   "metadata": {},
   "outputs": [
    {
     "data": {
      "text/html": [
       "<div>\n",
       "<style scoped>\n",
       "    .dataframe tbody tr th:only-of-type {\n",
       "        vertical-align: middle;\n",
       "    }\n",
       "\n",
       "    .dataframe tbody tr th {\n",
       "        vertical-align: top;\n",
       "    }\n",
       "\n",
       "    .dataframe thead th {\n",
       "        text-align: right;\n",
       "    }\n",
       "</style>\n",
       "<table border=\"1\" class=\"dataframe\">\n",
       "  <thead>\n",
       "    <tr style=\"text-align: right;\">\n",
       "      <th></th>\n",
       "      <th>Customer_ID</th>\n",
       "      <th>First</th>\n",
       "      <th>Last</th>\n",
       "      <th>Age</th>\n",
       "      <th>Country</th>\n",
       "    </tr>\n",
       "  </thead>\n",
       "  <tbody>\n",
       "    <tr>\n",
       "      <th>0</th>\n",
       "      <td>1</td>\n",
       "      <td>Joseph</td>\n",
       "      <td>Rice</td>\n",
       "      <td>43</td>\n",
       "      <td>USA</td>\n",
       "    </tr>\n",
       "    <tr>\n",
       "      <th>1</th>\n",
       "      <td>2</td>\n",
       "      <td>Gary</td>\n",
       "      <td>Moore</td>\n",
       "      <td>71</td>\n",
       "      <td>USA</td>\n",
       "    </tr>\n",
       "    <tr>\n",
       "      <th>2</th>\n",
       "      <td>3</td>\n",
       "      <td>John</td>\n",
       "      <td>Walker</td>\n",
       "      <td>44</td>\n",
       "      <td>UK</td>\n",
       "    </tr>\n",
       "    <tr>\n",
       "      <th>3</th>\n",
       "      <td>4</td>\n",
       "      <td>Eric</td>\n",
       "      <td>Carter</td>\n",
       "      <td>38</td>\n",
       "      <td>UK</td>\n",
       "    </tr>\n",
       "    <tr>\n",
       "      <th>4</th>\n",
       "      <td>5</td>\n",
       "      <td>William</td>\n",
       "      <td>Jackson</td>\n",
       "      <td>58</td>\n",
       "      <td>UAE</td>\n",
       "    </tr>\n",
       "  </tbody>\n",
       "</table>\n",
       "</div>"
      ],
      "text/plain": [
       "   Customer_ID    First     Last  Age Country\n",
       "0            1   Joseph     Rice   43     USA\n",
       "1            2     Gary    Moore   71     USA\n",
       "2            3     John   Walker   44      UK\n",
       "3            4     Eric   Carter   38      UK\n",
       "4            5  William  Jackson   58     UAE"
      ]
     },
     "execution_count": 11,
     "metadata": {},
     "output_type": "execute_result"
    }
   ],
   "source": [
    "## looking at the sample data of the datasets\n",
    "customer.head()\n"
   ]
  },
  {
   "cell_type": "code",
   "execution_count": 14,
   "metadata": {},
   "outputs": [
    {
     "name": "stdout",
     "output_type": "stream",
     "text": [
      "(250, 5)\n",
      "(250, 4)\n",
      "(250, 3)\n"
     ]
    }
   ],
   "source": [
    "## identifying the number of rows and columns\n",
    "print(customer.shape)\n",
    "print(order.shape)\n",
    "print(shipping.shape)"
   ]
  },
  {
   "cell_type": "code",
   "execution_count": 42,
   "metadata": {},
   "outputs": [
    {
     "name": "stdout",
     "output_type": "stream",
     "text": [
      "no duplicates found in the customer table\n"
     ]
    }
   ],
   "source": [
    "###check for duplicates customer table\n",
    "duplicated_count=customer.duplicated().sum()\n",
    "if duplicated_count>0:\n",
    "\n",
    "    print(f\" there are {duplicated_count} found in the customer table\")\n",
    "else:\n",
    "    print(\"no duplicates found in the customer table\")\n",
    "\n"
   ]
  },
  {
   "cell_type": "code",
   "execution_count": 41,
   "metadata": {},
   "outputs": [
    {
     "name": "stdout",
     "output_type": "stream",
     "text": [
      "no duplicates found in the shipping table\n"
     ]
    }
   ],
   "source": [
    "## chceking the duplicates in shipping table\n",
    "\n",
    "duplicated_count=shipping.duplicated().sum()\n",
    "if duplicated_count>0:\n",
    "\n",
    "    print(f\" there are {duplicated_count} found in the shipping table\")\n",
    "else:\n",
    "    print(\"no duplicates found in the shipping table\")"
   ]
  },
  {
   "cell_type": "code",
   "execution_count": 44,
   "metadata": {},
   "outputs": [
    {
     "name": "stdout",
     "output_type": "stream",
     "text": [
      "no duplicates found in the order table\n"
     ]
    }
   ],
   "source": [
    "## checking orders table\n",
    "duplicated_count=order.duplicated().sum()\n",
    "if duplicated_count>0:\n",
    "\n",
    "    print(f\" there are {duplicated_count} found in the order table\")\n",
    "else:\n",
    "    print(\"no duplicates found in the order table\")\n"
   ]
  },
  {
   "cell_type": "code",
   "execution_count": 51,
   "metadata": {},
   "outputs": [
    {
     "name": "stdout",
     "output_type": "stream",
     "text": [
      "Index(['Customer_ID', 'First', 'Last', 'Age', 'Country'], dtype='object')\n",
      "Index(['Order_ID', 'Item', 'Amount', 'Customer_ID'], dtype='object')\n",
      " Index(['Shipping_ID', 'Status', 'Customer_ID'], dtype='object')\n"
     ]
    }
   ],
   "source": [
    "print(customer.columns)\n",
    "print(order.columns)\n",
    "print(shipping.columns)"
   ]
  },
  {
   "cell_type": "code",
   "execution_count": 54,
   "metadata": {},
   "outputs": [],
   "source": [
    "\n",
    "## rename the column names in all the tables , making it as lowercase \n",
    "\n",
    "customer.rename(columns={'Customer_ID':'customer_id','First':'first_name','Last':'last_name','Age':'age','Country':'country'}, inplace=True)\n",
    "order.rename(columns={'order_id':'order_id','Item':'item','Amount':'sale_amount','Customer_ID':'customer_id'}, inplace=True)\n",
    "shipping.rename(columns={'Shipping_ID':'shipping_id','Status':'status','Customer_ID':'customer_id'},inplace=True)\n",
    "\n",
    "\n",
    "## addition of new column full name using first_name and last_name in customer table\n",
    "customer['full_name']=customer['first_name']+' '+customer['last_name']\n"
   ]
  },
  {
   "cell_type": "code",
   "execution_count": 55,
   "metadata": {},
   "outputs": [
    {
     "name": "stdout",
     "output_type": "stream",
     "text": [
      "Index(['customer_id', 'first_name', 'last_name', 'age', 'country',\n",
      "       'full_name'],\n",
      "      dtype='object')\n",
      "Index(['Order_ID', 'item', 'sale_amount', 'customer_id'], dtype='object')\n",
      "Index(['shipping_id', 'status', 'customer_id'], dtype='object')\n"
     ]
    }
   ],
   "source": [
    "print(customer.columns)\n",
    "print(order.columns)\n",
    "print(shipping.columns)"
   ]
  },
  {
   "cell_type": "code",
   "execution_count": 80,
   "metadata": {},
   "outputs": [
    {
     "name": "stdout",
     "output_type": "stream",
     "text": [
      "customer table don't have any null values\n",
      "order table don't have any null values\n",
      "shipping table don't have any null values\n"
     ]
    }
   ],
   "source": [
    "\n",
    "## an argument for a function\n",
    "dict_table={'customer':customer,'order':order,'shipping':shipping}\n",
    "\n",
    "def check_null(df_dict):\n",
    "    for key,df in df_dict.items():\n",
    "        if df.isnull().sum().sum():\n",
    "            \n",
    "            print(f\"{key} table contain null values, please validate the file again\")\n",
    "            print(\"below is the list of records where it has null values\")\n",
    "            print (df[df.isnull().any(axis=1)])\n",
    "        else:\n",
    "            \n",
    "            print(f\"{key} table don't have any null values\")\n",
    "\n",
    "check_null(dict_table)\n",
    "\n"
   ]
  },
  {
   "cell_type": "code",
   "execution_count": 81,
   "metadata": {},
   "outputs": [
    {
     "data": {
      "text/plain": [
       "0        400\n",
       "1        300\n",
       "2      12000\n",
       "3        400\n",
       "4        250\n",
       "       ...  \n",
       "245     5000\n",
       "246      350\n",
       "247      200\n",
       "248     1500\n",
       "249      900\n",
       "Name: sale_amount, Length: 250, dtype: int64"
      ]
     },
     "execution_count": 81,
     "metadata": {},
     "output_type": "execute_result"
    }
   ],
   "source": [
    "## checking the data for order table\n",
    "\n",
    "order['sale_amount']"
   ]
  },
  {
   "cell_type": "code",
   "execution_count": 87,
   "metadata": {},
   "outputs": [
    {
     "data": {
      "text/plain": [
       "<Axes: xlabel='item', ylabel='sale_amount'>"
      ]
     },
     "execution_count": 87,
     "metadata": {},
     "output_type": "execute_result"
    },
    {
     "data": {
      "image/png": "[encoded data removed]",
      "text/plain": [
       "<Figure size 640x480 with 1 Axes>"
      ]
     },
     "metadata": {},
     "output_type": "display_data"
    }
   ],
   "source": [
    "## detecting outliers only order data has numerical column tha's sales amount\n",
    "\n",
    "order.describe()\n",
    "sns.boxplot(x=order['item'],y=order['sale_amount'])\n",
    "\n",
    "## we dont see any outliers in data"
   ]
  },
  {
   "cell_type": "code",
   "execution_count": 88,
   "metadata": {},
   "outputs": [
    {
     "data": {
      "text/plain": [
       "<Axes: xlabel='sale_amount'>"
      ]
     },
     "execution_count": 88,
     "metadata": {},
     "output_type": "execute_result"
    },
    {
     "data": {
      "image/png": "[encoded data removed]",
      "text/plain": [
       "<Figure size 640x480 with 1 Axes>"
      ]
     },
     "metadata": {},
     "output_type": "display_data"
    }
   ],
   "source": [
    "sns.boxplot(x=order['sale_amount'])"
   ]
  }
 ],
 "metadata": {
  "kernelspec": {
   "display_name": "salesenv",
   "language": "python",
   "name": "python3"
  },
  "language_info": {
   "codemirror_mode": {
    "name": "ipython",
    "version": 3
   },
   "file_extension": ".py",
   "mimetype": "text/x-python",
   "name": "python",
   "nbconvert_exporter": "python",
   "pygments_lexer": "ipython3",
   "version": "3.10.14"
  }
 },
 "nbformat": 4,
 "nbformat_minor": 2
}
