{
 "cells": [
  {
   "cell_type": "markdown",
   "metadata": {},
   "source": [
    "<h2>Exploratory data analysis</h2>\n",
    "\n",
    "As part of our Sales analytcis project , we have to analyse the data provided by the Sales team.\n",
    "We will perform below data quaility checks on the datasets.\n",
    "<ul>\n",
    "<li> Check the data for it's completeness, any duplicates, null or any na values</li>\n",
    "<li>while imoorting the data to python,whether all the columns and any datatype mismatch errors</li>\n",
    "<li>any outliers in the data, correlation between the measures</li>\n",
    "</ul>\n",
    "\n"
   ]
  },
  {
   "cell_type": "code",
   "execution_count": 181,
   "metadata": {},
   "outputs": [],
   "source": [
    "## importing all the packages in the environment\n",
    "\n",
    "import pandas as pd\n",
    "import matplotlib as mlt\n",
    "import seaborn as sns\n",
    "import os \n",
    "import matplotlib.pyplot as plt\n"
   ]
  },
  {
   "cell_type": "markdown",
   "metadata": {},
   "source": [
    "Importing the data from the source system"
   ]
  },
  {
   "cell_type": "code",
   "execution_count": 182,
   "metadata": {},
   "outputs": [],
   "source": [
    "customer=pd.read_csv('./RawData/Customer.csv')\n",
    "order=pd.read_csv('./RawData/Order.csv')\n",
    "shipping=pd.read_json('./RawData/Shipping.json')"
   ]
  },
  {
   "cell_type": "code",
   "execution_count": 183,
   "metadata": {},
   "outputs": [
    {
     "name": "stdout",
     "output_type": "stream",
     "text": [
      "customer table\n",
      "   Customer_ID    First     Last  Age Country\n",
      "0            1   Joseph     Rice   43     USA\n",
      "1            2     Gary    Moore   71     USA\n",
      "2            3     John   Walker   44      UK\n",
      "3            4     Eric   Carter   38      UK\n",
      "4            5  William  Jackson   58     UAE\n",
      "order table\n",
      "   Order_ID      Item  Amount  Customer_ID\n",
      "0         1  Keyboard     400          139\n",
      "1         2     Mouse     300          250\n",
      "2         3   Monitor   12000          239\n",
      "3         4  Keyboard     400          153\n",
      "4         5  Mousepad     250          153\n",
      "shipping table\n",
      "   Shipping_ID     Status  Customer_ID\n",
      "0            1    Pending          173\n",
      "1            2    Pending          155\n",
      "2            3  Delivered          242\n",
      "3            4    Pending          223\n",
      "4            5  Delivered           72\n"
     ]
    }
   ],
   "source": [
    "#### verifying the source data and dataframes created\n",
    "pd.set_option(\"display.max_rows\",10)\n",
    "\n",
    "print(\"customer table\",customer.head(5),sep='\\n')\n",
    "print(\"order table\",order.head(5),sep='\\n')\n",
    "print(\"shipping table\",shipping.head(5),sep='\\n')"
   ]
  },
  {
   "cell_type": "markdown",
   "metadata": {},
   "source": [
    "Data source schema match : source and the datasets as are matching "
   ]
  },
  {
   "cell_type": "markdown",
   "metadata": {},
   "source": [
    "checking the rows and columns of the datasets"
   ]
  },
  {
   "cell_type": "code",
   "execution_count": 184,
   "metadata": {},
   "outputs": [
    {
     "name": "stdout",
     "output_type": "stream",
     "text": [
      "number of rows and columns in customer dataframe is  (250, 5)\n",
      "number of rows and columns in order dataframe is  (250, 4)\n",
      "number of rows and columns in shipping dataframe is  (250, 3)\n"
     ]
    }
   ],
   "source": [
    "## looking at the sample data of the datasets\n",
    "print(\"number of rows and columns in customer dataframe is \",customer.shape)\n",
    "print(\"number of rows and columns in order dataframe is \",order.shape)\n",
    "print(\"number of rows and columns in shipping dataframe is \",shipping.shape)\n"
   ]
  },
  {
   "cell_type": "markdown",
   "metadata": {},
   "source": [
    "checking the dtype and the count of the datasets"
   ]
  },
  {
   "cell_type": "code",
   "execution_count": 185,
   "metadata": {},
   "outputs": [
    {
     "name": "stdout",
     "output_type": "stream",
     "text": [
      "<class 'pandas.core.frame.DataFrame'>\n",
      "RangeIndex: 250 entries, 0 to 249\n",
      "Data columns (total 5 columns):\n",
      " #   Column       Non-Null Count  Dtype \n",
      "---  ------       --------------  ----- \n",
      " 0   Customer_ID  250 non-null    int64 \n",
      " 1   First        250 non-null    object\n",
      " 2   Last         250 non-null    object\n",
      " 3   Age          250 non-null    int64 \n",
      " 4   Country      250 non-null    object\n",
      "dtypes: int64(2), object(3)\n",
      "memory usage: 9.9+ KB\n",
      "None\n",
      "<class 'pandas.core.frame.DataFrame'>\n",
      "RangeIndex: 250 entries, 0 to 249\n",
      "Data columns (total 4 columns):\n",
      " #   Column       Non-Null Count  Dtype \n",
      "---  ------       --------------  ----- \n",
      " 0   Order_ID     250 non-null    int64 \n",
      " 1   Item         250 non-null    object\n",
      " 2   Amount       250 non-null    int64 \n",
      " 3   Customer_ID  250 non-null    int64 \n",
      "dtypes: int64(3), object(1)\n",
      "memory usage: 7.9+ KB\n",
      "None\n",
      "<class 'pandas.core.frame.DataFrame'>\n",
      "RangeIndex: 250 entries, 0 to 249\n",
      "Data columns (total 3 columns):\n",
      " #   Column       Non-Null Count  Dtype \n",
      "---  ------       --------------  ----- \n",
      " 0   Shipping_ID  250 non-null    int64 \n",
      " 1   Status       250 non-null    object\n",
      " 2   Customer_ID  250 non-null    int64 \n",
      "dtypes: int64(2), object(1)\n",
      "memory usage: 6.0+ KB\n",
      "None\n"
     ]
    }
   ],
   "source": [
    "print(customer.info() ,sep='\\n')\n",
    "print(order.info() ,sep='\\n')\n",
    "print(shipping.info() ,sep='\\n')"
   ]
  },
  {
   "cell_type": "markdown",
   "metadata": {},
   "source": [
    "Check for the duplicates in the data"
   ]
  },
  {
   "cell_type": "code",
   "execution_count": 186,
   "metadata": {},
   "outputs": [
    {
     "name": "stdout",
     "output_type": "stream",
     "text": [
      "no duplicates found in the customer table\n",
      "no duplicates found in the order table\n",
      "no duplicates found in the shipping table\n"
     ]
    }
   ],
   "source": [
    "###check for duplicates customer table\n",
    "duplicated_count=customer.duplicated().sum()\n",
    "if duplicated_count>0:\n",
    "\n",
    "    print(f\" there are {duplicated_count} found in the customer table\")\n",
    "else:\n",
    "    print(\"no duplicates found in the customer table\")\n",
    "\n",
    "## checking orders table\n",
    "duplicated_count=order.duplicated().sum()\n",
    "if duplicated_count>0:\n",
    "\n",
    "    print(f\" there are {duplicated_count} found in the order table\")\n",
    "else:\n",
    "    print(\"no duplicates found in the order table\")\n",
    "\n",
    "\n",
    "## chceking the duplicates in shipping table\n",
    "\n",
    "duplicated_count=shipping.duplicated().sum()\n",
    "if duplicated_count>0:\n",
    "\n",
    "    print(f\" there are {duplicated_count} found in the shipping table\")\n",
    "else:\n",
    "    print(\"no duplicates found in the shipping table\")\n",
    "\n",
    "\n"
   ]
  },
  {
   "cell_type": "markdown",
   "metadata": {},
   "source": [
    "data duplication check : no duplicate records found in all the three datasets"
   ]
  },
  {
   "cell_type": "markdown",
   "metadata": {},
   "source": [
    "column names of the dataframes :"
   ]
  },
  {
   "cell_type": "code",
   "execution_count": 187,
   "metadata": {},
   "outputs": [
    {
     "name": "stdout",
     "output_type": "stream",
     "text": [
      "Index(['Customer_ID', 'First', 'Last', 'Age', 'Country'], dtype='object')\n",
      "Index(['Order_ID', 'Item', 'Amount', 'Customer_ID'], dtype='object')\n",
      "Index(['Shipping_ID', 'Status', 'Customer_ID'], dtype='object')\n"
     ]
    }
   ],
   "source": [
    "print(customer.columns)\n",
    "print(order.columns)\n",
    "print(shipping.columns)"
   ]
  },
  {
   "cell_type": "markdown",
   "metadata": {},
   "source": [
    "check for the null values in the data"
   ]
  },
  {
   "cell_type": "code",
   "execution_count": 188,
   "metadata": {},
   "outputs": [
    {
     "name": "stdout",
     "output_type": "stream",
     "text": [
      "customer table don't have any null values\n",
      "order table don't have any null values\n",
      "shipping table don't have any null values\n"
     ]
    }
   ],
   "source": [
    "## an argument for a function\n",
    "dict_table={'customer':customer,'order':order,'shipping':shipping}\n",
    "\n",
    "def check_null(df_dict):\n",
    "    for key,df in df_dict.items():\n",
    "        if df.isnull().sum().sum():\n",
    "            \n",
    "            print(f\"{key} table contain null values, please validate the file again\")\n",
    "            print(\"below is the list of records where it has null values\")\n",
    "            print (df[df.isnull().any(axis=1)])\n",
    "        else:\n",
    "            \n",
    "            print(f\"{key} table don't have any null values\")\n",
    "\n",
    "check_null(dict_table)\n"
   ]
  },
  {
   "cell_type": "code",
   "execution_count": 189,
   "metadata": {},
   "outputs": [
    {
     "name": "stdout",
     "output_type": "stream",
     "text": [
      "customer table don't have any na values\n",
      "order table don't have any na values\n",
      "shipping table don't have any na values\n"
     ]
    }
   ],
   "source": [
    "def check_null(df_dict):\n",
    "    for key,df in df_dict.items():\n",
    "        if df.isna().sum().sum():\n",
    "            \n",
    "            print(f\"{key} table contain na values, please validate the file again\")\n",
    "            print(\"below is the list of records where it has na values\")\n",
    "            print (df[df.isna().any(axis=1)])\n",
    "        else:\n",
    "            \n",
    "            print(f\"{key} table don't have any na values\")\n",
    "\n",
    "check_null(dict_table)\n"
   ]
  },
  {
   "cell_type": "markdown",
   "metadata": {},
   "source": [
    "result : all the three tables don't have any na or null values in the column"
   ]
  },
  {
   "cell_type": "markdown",
   "metadata": {},
   "source": [
    "Data consistancy check "
   ]
  },
  {
   "cell_type": "code",
   "execution_count": 190,
   "metadata": {},
   "outputs": [
    {
     "name": "stdout",
     "output_type": "stream",
     "text": [
      "Country\n",
      "USA    101\n",
      "UK     100\n",
      "UAE     49\n",
      "Name: count, dtype: int64\n",
      "Item\n",
      "Keyboard    50\n",
      "Mousepad    50\n",
      "Mouse       25\n",
      "Monitor     25\n",
      "Harddisk    25\n",
      "Webcam      25\n",
      "DDR RAM     25\n",
      "Headset     25\n",
      "Name: count, dtype: int64\n",
      "Status\n",
      "Pending      150\n",
      "Delivered    100\n",
      "Name: count, dtype: int64\n"
     ]
    }
   ],
   "source": [
    "### check the country column in the customer dataset\n",
    "print (customer['Country'].value_counts())\n",
    "### check the item column in order table\n",
    "print(order['Item'].value_counts())\n",
    "\n",
    "### check the status column in the shipping table\n",
    "print(shipping['Status'].value_counts())"
   ]
  },
  {
   "cell_type": "code",
   "execution_count": 191,
   "metadata": {},
   "outputs": [
    {
     "name": "stdout",
     "output_type": "stream",
     "text": [
      "Customer_ID can be treated as a primary key in sales_customer table\n",
      "Order_ID can be treated as a primary key in sales_order table\n",
      "Shipping_ID can be treated as a primary key in sales_shipping table\n"
     ]
    }
   ],
   "source": [
    "### primary key check for the 3 datasets\n",
    "\n",
    "def check_primary_key(df, column_name, table_name):\n",
    "    if df[column_name].nunique() == df[column_name].count():\n",
    "        print(f\"{column_name} can be treated as a primary key in {table_name} table\")\n",
    "    else:\n",
    "        print(f\"{column_name} is not unique in {table_name}, please check the data\")\n",
    "\n",
    "# #Apply the function to each DataFrame and column \n",
    "check_primary_key(customer, 'Customer_ID', 'sales_customer')\n",
    "check_primary_key(order, 'Order_ID', 'sales_order')\n",
    "check_primary_key(shipping, 'Shipping_ID', 'sales_shipping')"
   ]
  },
  {
   "cell_type": "markdown",
   "metadata": {},
   "source": [
    "Data cleaning conclusion\n",
    "<ul>\n",
    "<li> imported data is matvhing with source data </li>\n",
    "<li>datatypes in the each dataset don't have any discrepancy</li>\n",
    "<li>no duplicate records found in all the three datasets</li>\n",
    "<li>no null values or na values found in the dataset</li>\n",
    "<li>data is consistant accross the columns in all the datasets</li>\n",
    "<li>primary key in 3 data sets is unique and which are identified</li>\n"
   ]
  },
  {
   "cell_type": "markdown",
   "metadata": {},
   "source": [
    "checkng the data for outliers \n",
    "\n",
    "only order table has the measure ie. amount , hence we need to check the data outliers for  order table ,customer table has age.\n",
    "we can check the outliers for those two."
   ]
  },
  {
   "cell_type": "code",
   "execution_count": 192,
   "metadata": {},
   "outputs": [
    {
     "data": {
      "text/plain": [
       "count      250.00000\n",
       "mean      2130.00000\n",
       "std       3575.43493\n",
       "min        200.00000\n",
       "25%        300.00000\n",
       "50%        400.00000\n",
       "75%       1500.00000\n",
       "max      12000.00000\n",
       "Name: Amount, dtype: float64"
      ]
     },
     "execution_count": 192,
     "metadata": {},
     "output_type": "execute_result"
    }
   ],
   "source": [
    "order['Amount'].describe()"
   ]
  },
  {
   "cell_type": "code",
   "execution_count": 193,
   "metadata": {},
   "outputs": [],
   "source": [
    "Q1 = order['Amount'].quantile(0.25)\n",
    "Q3 = order['Amount'].quantile(0.75)\n",
    "IQR = Q3-Q1\n",
    "lower_bound = Q1 - 1.5 * IQR\n",
    "upper_bound = Q3 + 1.5 * IQR"
   ]
  },
  {
   "cell_type": "code",
   "execution_count": 194,
   "metadata": {},
   "outputs": [
    {
     "name": "stdout",
     "output_type": "stream",
     "text": [
      "the lower bound for order amount is -1500.0\n",
      "the upper bound for the order amount is 3300.0\n"
     ]
    }
   ],
   "source": [
    "print(\"the lower bound for order amount is\",lower_bound)\n",
    "## which we can treat this as zero \n",
    "print('the upper bound for the order amount is',upper_bound)"
   ]
  },
  {
   "cell_type": "code",
   "execution_count": 195,
   "metadata": {},
   "outputs": [
    {
     "name": "stdout",
     "output_type": "stream",
     "text": [
      "% of records above the upperbound is 0.2\n"
     ]
    }
   ],
   "source": [
    "order[order['Amount']>upper_bound].groupby('Item').agg({'Order_ID':'count','Amount':'sum'})\n",
    "\n",
    "print('% of records above the upperbound is',order[order['Amount']>upper_bound].shape[0]/len(order))"
   ]
  },
  {
   "cell_type": "code",
   "execution_count": 196,
   "metadata": {},
   "outputs": [
    {
     "data": {
      "text/plain": [
       "<Axes: xlabel='Amount', ylabel='Count'>"
      ]
     },
     "execution_count": 196,
     "metadata": {},
     "output_type": "execute_result"
    },
    {
     "data": {
      "image/png": "[encoded data removed]",
      "text/plain": [
       "<Figure size 640x480 with 1 Axes>"
      ]
     },
     "metadata": {},
     "output_type": "display_data"
    }
   ],
   "source": [
    "sns.histplot(data=order,x='Amount')"
   ]
  },
  {
   "cell_type": "markdown",
   "metadata": {},
   "source": [
    "There are total 50 records which is above the upper bound , it contributes to total 20 % and it's not outlires\n"
   ]
  },
  {
   "cell_type": "code",
   "execution_count": 197,
   "metadata": {},
   "outputs": [
    {
     "data": {
      "text/plain": [
       "count    250.000000\n",
       "mean      47.576000\n",
       "std       18.978011\n",
       "min       18.000000\n",
       "25%       29.000000\n",
       "50%       47.000000\n",
       "75%       63.000000\n",
       "max       80.000000\n",
       "Name: Age, dtype: float64"
      ]
     },
     "execution_count": 197,
     "metadata": {},
     "output_type": "execute_result"
    }
   ],
   "source": [
    "customer['Age'].describe()"
   ]
  },
  {
   "cell_type": "markdown",
   "metadata": {},
   "source": [
    "customer table have age which falls between 18 to 80 hence customer table don't have any outliers"
   ]
  },
  {
   "cell_type": "markdown",
   "metadata": {},
   "source": [
    "Rename the column names of each dataframe"
   ]
  },
  {
   "cell_type": "code",
   "execution_count": 223,
   "metadata": {},
   "outputs": [],
   "source": [
    "\n",
    "## rename the column names in all the tables , making it as lowercase \n",
    "\n",
    "customer.rename(columns={'Customer_ID':'customer_id','First':'first_name','Last':'last_name','Age':'age','Country':'country'}, inplace=True)\n",
    "order.rename(columns={'Order_ID':'order_id','Item':'item','Amount':'sale_amount','Customer_ID':'customer_id'}, inplace=True)\n",
    "shipping.rename(columns={'Shipping_ID':'shipping_id','Status':'status','Customer_ID':'customer_id'},inplace=True)\n",
    "\n",
    "\n",
    "## addition of new column full name using first_name and last_name in customer table\n",
    "customer['first_name'].str.strip()\n",
    "customer['last_name'].str.strip()\n",
    "customer['full_name']=customer['first_name']+' '+customer['last_name']\n",
    "## addign age group\n",
    "customer['age_group']=customer['age'].apply(lambda age: '>30' if(age >= 30) else '<30')\n",
    "\n"
   ]
  },
  {
   "cell_type": "markdown",
   "metadata": {},
   "source": [
    "Joining the datafarmes to check any discrepancy while merging the data"
   ]
  },
  {
   "cell_type": "code",
   "execution_count": 200,
   "metadata": {},
   "outputs": [],
   "source": [
    "cust_ord=pd.merge(order,customer, on='customer_id',how='right')"
   ]
  },
  {
   "cell_type": "code",
   "execution_count": 201,
   "metadata": {},
   "outputs": [
    {
     "data": {
      "text/html": [
       "<div>\n",
       "<style scoped>\n",
       "    .dataframe tbody tr th:only-of-type {\n",
       "        vertical-align: middle;\n",
       "    }\n",
       "\n",
       "    .dataframe tbody tr th {\n",
       "        vertical-align: top;\n",
       "    }\n",
       "\n",
       "    .dataframe thead th {\n",
       "        text-align: right;\n",
       "    }\n",
       "</style>\n",
       "<table border=\"1\" class=\"dataframe\">\n",
       "  <thead>\n",
       "    <tr style=\"text-align: right;\">\n",
       "      <th></th>\n",
       "      <th>order_id</th>\n",
       "      <th>item</th>\n",
       "      <th>sale_amount</th>\n",
       "      <th>customer_id</th>\n",
       "      <th>first_name</th>\n",
       "      <th>last_name</th>\n",
       "      <th>age</th>\n",
       "      <th>country</th>\n",
       "    </tr>\n",
       "  </thead>\n",
       "  <tbody>\n",
       "    <tr>\n",
       "      <th>0</th>\n",
       "      <td>NaN</td>\n",
       "      <td>NaN</td>\n",
       "      <td>NaN</td>\n",
       "      <td>1</td>\n",
       "      <td>Joseph</td>\n",
       "      <td>Rice</td>\n",
       "      <td>43</td>\n",
       "      <td>USA</td>\n",
       "    </tr>\n",
       "    <tr>\n",
       "      <th>1</th>\n",
       "      <td>NaN</td>\n",
       "      <td>NaN</td>\n",
       "      <td>NaN</td>\n",
       "      <td>2</td>\n",
       "      <td>Gary</td>\n",
       "      <td>Moore</td>\n",
       "      <td>71</td>\n",
       "      <td>USA</td>\n",
       "    </tr>\n",
       "    <tr>\n",
       "      <th>2</th>\n",
       "      <td>NaN</td>\n",
       "      <td>NaN</td>\n",
       "      <td>NaN</td>\n",
       "      <td>3</td>\n",
       "      <td>John</td>\n",
       "      <td>Walker</td>\n",
       "      <td>44</td>\n",
       "      <td>UK</td>\n",
       "    </tr>\n",
       "    <tr>\n",
       "      <th>3</th>\n",
       "      <td>118.0</td>\n",
       "      <td>Mousepad</td>\n",
       "      <td>200.0</td>\n",
       "      <td>4</td>\n",
       "      <td>Eric</td>\n",
       "      <td>Carter</td>\n",
       "      <td>38</td>\n",
       "      <td>UK</td>\n",
       "    </tr>\n",
       "    <tr>\n",
       "      <th>4</th>\n",
       "      <td>19.0</td>\n",
       "      <td>DDR RAM</td>\n",
       "      <td>1500.0</td>\n",
       "      <td>5</td>\n",
       "      <td>William</td>\n",
       "      <td>Jackson</td>\n",
       "      <td>58</td>\n",
       "      <td>UAE</td>\n",
       "    </tr>\n",
       "    <tr>\n",
       "      <th>...</th>\n",
       "      <td>...</td>\n",
       "      <td>...</td>\n",
       "      <td>...</td>\n",
       "      <td>...</td>\n",
       "      <td>...</td>\n",
       "      <td>...</td>\n",
       "      <td>...</td>\n",
       "      <td>...</td>\n",
       "    </tr>\n",
       "    <tr>\n",
       "      <th>335</th>\n",
       "      <td>40.0</td>\n",
       "      <td>Headset</td>\n",
       "      <td>900.0</td>\n",
       "      <td>249</td>\n",
       "      <td>Patricia</td>\n",
       "      <td>Garcia</td>\n",
       "      <td>19</td>\n",
       "      <td>UK</td>\n",
       "    </tr>\n",
       "    <tr>\n",
       "      <th>336</th>\n",
       "      <td>79.0</td>\n",
       "      <td>DDR RAM</td>\n",
       "      <td>1500.0</td>\n",
       "      <td>249</td>\n",
       "      <td>Patricia</td>\n",
       "      <td>Garcia</td>\n",
       "      <td>19</td>\n",
       "      <td>UK</td>\n",
       "    </tr>\n",
       "    <tr>\n",
       "      <th>337</th>\n",
       "      <td>125.0</td>\n",
       "      <td>Mousepad</td>\n",
       "      <td>250.0</td>\n",
       "      <td>249</td>\n",
       "      <td>Patricia</td>\n",
       "      <td>Garcia</td>\n",
       "      <td>19</td>\n",
       "      <td>UK</td>\n",
       "    </tr>\n",
       "    <tr>\n",
       "      <th>338</th>\n",
       "      <td>188.0</td>\n",
       "      <td>Mousepad</td>\n",
       "      <td>200.0</td>\n",
       "      <td>249</td>\n",
       "      <td>Patricia</td>\n",
       "      <td>Garcia</td>\n",
       "      <td>19</td>\n",
       "      <td>UK</td>\n",
       "    </tr>\n",
       "    <tr>\n",
       "      <th>339</th>\n",
       "      <td>2.0</td>\n",
       "      <td>Mouse</td>\n",
       "      <td>300.0</td>\n",
       "      <td>250</td>\n",
       "      <td>Stephen</td>\n",
       "      <td>Jones</td>\n",
       "      <td>22</td>\n",
       "      <td>USA</td>\n",
       "    </tr>\n",
       "  </tbody>\n",
       "</table>\n",
       "<p>340 rows × 8 columns</p>\n",
       "</div>"
      ],
      "text/plain": [
       "     order_id      item  sale_amount  customer_id first_name last_name  age  \\\n",
       "0         NaN       NaN          NaN            1     Joseph      Rice   43   \n",
       "1         NaN       NaN          NaN            2       Gary     Moore   71   \n",
       "2         NaN       NaN          NaN            3       John    Walker   44   \n",
       "3       118.0  Mousepad        200.0            4       Eric    Carter   38   \n",
       "4        19.0   DDR RAM       1500.0            5    William   Jackson   58   \n",
       "..        ...       ...          ...          ...        ...       ...  ...   \n",
       "335      40.0   Headset        900.0          249   Patricia    Garcia   19   \n",
       "336      79.0   DDR RAM       1500.0          249   Patricia    Garcia   19   \n",
       "337     125.0  Mousepad        250.0          249   Patricia    Garcia   19   \n",
       "338     188.0  Mousepad        200.0          249   Patricia    Garcia   19   \n",
       "339       2.0     Mouse        300.0          250    Stephen     Jones   22   \n",
       "\n",
       "    country  \n",
       "0       USA  \n",
       "1       USA  \n",
       "2        UK  \n",
       "3        UK  \n",
       "4       UAE  \n",
       "..      ...  \n",
       "335      UK  \n",
       "336      UK  \n",
       "337      UK  \n",
       "338      UK  \n",
       "339     USA  \n",
       "\n",
       "[340 rows x 8 columns]"
      ]
     },
     "execution_count": 201,
     "metadata": {},
     "output_type": "execute_result"
    }
   ],
   "source": [
    "cust_ord"
   ]
  },
  {
   "cell_type": "code",
   "execution_count": 208,
   "metadata": {},
   "outputs": [
    {
     "data": {
      "text/html": [
       "<div>\n",
       "<style scoped>\n",
       "    .dataframe tbody tr th:only-of-type {\n",
       "        vertical-align: middle;\n",
       "    }\n",
       "\n",
       "    .dataframe tbody tr th {\n",
       "        vertical-align: top;\n",
       "    }\n",
       "\n",
       "    .dataframe thead th {\n",
       "        text-align: right;\n",
       "    }\n",
       "</style>\n",
       "<table border=\"1\" class=\"dataframe\">\n",
       "  <thead>\n",
       "    <tr style=\"text-align: right;\">\n",
       "      <th></th>\n",
       "      <th>customer_id</th>\n",
       "      <th>full_name</th>\n",
       "      <th>country</th>\n",
       "    </tr>\n",
       "  </thead>\n",
       "  <tbody>\n",
       "    <tr>\n",
       "      <th>0</th>\n",
       "      <td>1</td>\n",
       "      <td>Joseph Rice</td>\n",
       "      <td>USA</td>\n",
       "    </tr>\n",
       "    <tr>\n",
       "      <th>1</th>\n",
       "      <td>2</td>\n",
       "      <td>Gary Moore</td>\n",
       "      <td>USA</td>\n",
       "    </tr>\n",
       "    <tr>\n",
       "      <th>2</th>\n",
       "      <td>3</td>\n",
       "      <td>John Walker</td>\n",
       "      <td>UK</td>\n",
       "    </tr>\n",
       "    <tr>\n",
       "      <th>5</th>\n",
       "      <td>6</td>\n",
       "      <td>N!cole Jones</td>\n",
       "      <td>USA</td>\n",
       "    </tr>\n",
       "    <tr>\n",
       "      <th>6</th>\n",
       "      <td>7</td>\n",
       "      <td>David Davis</td>\n",
       "      <td>USA</td>\n",
       "    </tr>\n",
       "    <tr>\n",
       "      <th>...</th>\n",
       "      <td>...</td>\n",
       "      <td>...</td>\n",
       "      <td>...</td>\n",
       "    </tr>\n",
       "    <tr>\n",
       "      <th>319</th>\n",
       "      <td>237</td>\n",
       "      <td>Donna Bird</td>\n",
       "      <td>USA</td>\n",
       "    </tr>\n",
       "    <tr>\n",
       "      <th>324</th>\n",
       "      <td>240</td>\n",
       "      <td>Edward Bray</td>\n",
       "      <td>UAE</td>\n",
       "    </tr>\n",
       "    <tr>\n",
       "      <th>325</th>\n",
       "      <td>241</td>\n",
       "      <td>Brenda Hines</td>\n",
       "      <td>USA</td>\n",
       "    </tr>\n",
       "    <tr>\n",
       "      <th>329</th>\n",
       "      <td>245</td>\n",
       "      <td>Christopher Miles</td>\n",
       "      <td>UAE</td>\n",
       "    </tr>\n",
       "    <tr>\n",
       "      <th>334</th>\n",
       "      <td>248</td>\n",
       "      <td>Thomas Hickman</td>\n",
       "      <td>UK</td>\n",
       "    </tr>\n",
       "  </tbody>\n",
       "</table>\n",
       "<p>90 rows × 3 columns</p>\n",
       "</div>"
      ],
      "text/plain": [
       "     customer_id          full_name country\n",
       "0              1        Joseph Rice     USA\n",
       "1              2         Gary Moore     USA\n",
       "2              3        John Walker      UK\n",
       "5              6       N!cole Jones     USA\n",
       "6              7        David Davis     USA\n",
       "..           ...                ...     ...\n",
       "319          237         Donna Bird     USA\n",
       "324          240        Edward Bray     UAE\n",
       "325          241       Brenda Hines     USA\n",
       "329          245  Christopher Miles     UAE\n",
       "334          248     Thomas Hickman      UK\n",
       "\n",
       "[90 rows x 3 columns]"
      ]
     },
     "execution_count": 208,
     "metadata": {},
     "output_type": "execute_result"
    }
   ],
   "source": [
    "#### count of customers who are not appearing in order table\n",
    "cust_ord=pd.merge(order,customer, on='customer_id',how='right')\n",
    "\n",
    "\n",
    "cust_ord.loc[cust_ord['order_id'].isnull(),['customer_id','full_name','country']]"
   ]
  },
  {
   "cell_type": "code",
   "execution_count": null,
   "metadata": {},
   "outputs": [
    {
     "data": {
      "text/html": [
       "<div>\n",
       "<style scoped>\n",
       "    .dataframe tbody tr th:only-of-type {\n",
       "        vertical-align: middle;\n",
       "    }\n",
       "\n",
       "    .dataframe tbody tr th {\n",
       "        vertical-align: top;\n",
       "    }\n",
       "\n",
       "    .dataframe thead th {\n",
       "        text-align: right;\n",
       "    }\n",
       "</style>\n",
       "<table border=\"1\" class=\"dataframe\">\n",
       "  <thead>\n",
       "    <tr style=\"text-align: right;\">\n",
       "      <th></th>\n",
       "      <th>customer_id</th>\n",
       "      <th>full_name</th>\n",
       "      <th>country</th>\n",
       "    </tr>\n",
       "  </thead>\n",
       "  <tbody>\n",
       "    <tr>\n",
       "      <th>4</th>\n",
       "      <td>4</td>\n",
       "      <td>Eric Carter</td>\n",
       "      <td>UK</td>\n",
       "    </tr>\n",
       "    <tr>\n",
       "      <th>5</th>\n",
       "      <td>5</td>\n",
       "      <td>William Jackson</td>\n",
       "      <td>UAE</td>\n",
       "    </tr>\n",
       "    <tr>\n",
       "      <th>7</th>\n",
       "      <td>7</td>\n",
       "      <td>David Davis</td>\n",
       "      <td>USA</td>\n",
       "    </tr>\n",
       "    <tr>\n",
       "      <th>23</th>\n",
       "      <td>16</td>\n",
       "      <td>David Benson</td>\n",
       "      <td>USA</td>\n",
       "    </tr>\n",
       "    <tr>\n",
       "      <th>26</th>\n",
       "      <td>19</td>\n",
       "      <td>James Johnson</td>\n",
       "      <td>UK</td>\n",
       "    </tr>\n",
       "    <tr>\n",
       "      <th>...</th>\n",
       "      <td>...</td>\n",
       "      <td>...</td>\n",
       "      <td>...</td>\n",
       "    </tr>\n",
       "    <tr>\n",
       "      <th>331</th>\n",
       "      <td>239</td>\n",
       "      <td>Janet Holmes</td>\n",
       "      <td>UK</td>\n",
       "    </tr>\n",
       "    <tr>\n",
       "      <th>337</th>\n",
       "      <td>243</td>\n",
       "      <td>Alejandro Bailey</td>\n",
       "      <td>UK</td>\n",
       "    </tr>\n",
       "    <tr>\n",
       "      <th>341</th>\n",
       "      <td>247</td>\n",
       "      <td>John Miller</td>\n",
       "      <td>USA</td>\n",
       "    </tr>\n",
       "    <tr>\n",
       "      <th>344</th>\n",
       "      <td>249</td>\n",
       "      <td>Patricia Garcia</td>\n",
       "      <td>UK</td>\n",
       "    </tr>\n",
       "    <tr>\n",
       "      <th>345</th>\n",
       "      <td>250</td>\n",
       "      <td>Stephen Jones</td>\n",
       "      <td>USA</td>\n",
       "    </tr>\n",
       "  </tbody>\n",
       "</table>\n",
       "<p>96 rows × 3 columns</p>\n",
       "</div>"
      ],
      "text/plain": [
       "     customer_id         full_name country\n",
       "4              4       Eric Carter      UK\n",
       "5              5   William Jackson     UAE\n",
       "7              7       David Davis     USA\n",
       "23            16      David Benson     USA\n",
       "26            19     James Johnson      UK\n",
       "..           ...               ...     ...\n",
       "331          239      Janet Holmes      UK\n",
       "337          243  Alejandro Bailey      UK\n",
       "341          247       John Miller     USA\n",
       "344          249   Patricia Garcia      UK\n",
       "345          250     Stephen Jones     USA\n",
       "\n",
       "[96 rows x 3 columns]"
      ]
     },
     "execution_count": 172,
     "metadata": {},
     "output_type": "execute_result"
    }
   ],
   "source": [
    "## customers not appearing in shipping table\n",
    "cust_ship=pd.merge(shipping,customer, on='customer_id',how='right')\n",
    "cust_ship.loc[cust_ship['shipping_id'].isnull(),['customer_id','full_name','country']]"
   ]
  },
  {
   "cell_type": "code",
   "execution_count": 212,
   "metadata": {},
   "outputs": [
    {
     "data": {
      "text/html": [
       "<div>\n",
       "<style scoped>\n",
       "    .dataframe tbody tr th:only-of-type {\n",
       "        vertical-align: middle;\n",
       "    }\n",
       "\n",
       "    .dataframe tbody tr th {\n",
       "        vertical-align: top;\n",
       "    }\n",
       "\n",
       "    .dataframe thead th {\n",
       "        text-align: right;\n",
       "    }\n",
       "</style>\n",
       "<table border=\"1\" class=\"dataframe\">\n",
       "  <thead>\n",
       "    <tr style=\"text-align: right;\">\n",
       "      <th></th>\n",
       "      <th>customer_id</th>\n",
       "      <th>age</th>\n",
       "      <th>country</th>\n",
       "      <th>full_name</th>\n",
       "    </tr>\n",
       "  </thead>\n",
       "  <tbody>\n",
       "    <tr>\n",
       "      <th>7</th>\n",
       "      <td>7</td>\n",
       "      <td>59</td>\n",
       "      <td>USA</td>\n",
       "      <td>David Davis</td>\n",
       "    </tr>\n",
       "    <tr>\n",
       "      <th>31</th>\n",
       "      <td>16</td>\n",
       "      <td>61</td>\n",
       "      <td>USA</td>\n",
       "      <td>David Benson</td>\n",
       "    </tr>\n",
       "    <tr>\n",
       "      <th>34</th>\n",
       "      <td>19</td>\n",
       "      <td>67</td>\n",
       "      <td>UK</td>\n",
       "      <td>James Johnson</td>\n",
       "    </tr>\n",
       "    <tr>\n",
       "      <th>48</th>\n",
       "      <td>25</td>\n",
       "      <td>36</td>\n",
       "      <td>UAE</td>\n",
       "      <td>Raymond Taylor</td>\n",
       "    </tr>\n",
       "    <tr>\n",
       "      <th>59</th>\n",
       "      <td>31</td>\n",
       "      <td>42</td>\n",
       "      <td>USA</td>\n",
       "      <td>Craig Myers</td>\n",
       "    </tr>\n",
       "    <tr>\n",
       "      <th>...</th>\n",
       "      <td>...</td>\n",
       "      <td>...</td>\n",
       "      <td>...</td>\n",
       "      <td>...</td>\n",
       "    </tr>\n",
       "    <tr>\n",
       "      <th>394</th>\n",
       "      <td>213</td>\n",
       "      <td>68</td>\n",
       "      <td>UK</td>\n",
       "      <td>Gloria Miller</td>\n",
       "    </tr>\n",
       "    <tr>\n",
       "      <th>401</th>\n",
       "      <td>217</td>\n",
       "      <td>28</td>\n",
       "      <td>USA</td>\n",
       "      <td>Shelby Gomez</td>\n",
       "    </tr>\n",
       "    <tr>\n",
       "      <th>419</th>\n",
       "      <td>227</td>\n",
       "      <td>37</td>\n",
       "      <td>USA</td>\n",
       "      <td>Aaron Mckee</td>\n",
       "    </tr>\n",
       "    <tr>\n",
       "      <th>428</th>\n",
       "      <td>233</td>\n",
       "      <td>28</td>\n",
       "      <td>UK</td>\n",
       "      <td>Samantha Smith</td>\n",
       "    </tr>\n",
       "    <tr>\n",
       "      <th>436</th>\n",
       "      <td>237</td>\n",
       "      <td>63</td>\n",
       "      <td>USA</td>\n",
       "      <td>Donna Bird</td>\n",
       "    </tr>\n",
       "  </tbody>\n",
       "</table>\n",
       "<p>35 rows × 4 columns</p>\n",
       "</div>"
      ],
      "text/plain": [
       "     customer_id  age country       full_name\n",
       "7              7   59     USA     David Davis\n",
       "31            16   61     USA    David Benson\n",
       "34            19   67      UK   James Johnson\n",
       "48            25   36     UAE  Raymond Taylor\n",
       "59            31   42     USA     Craig Myers\n",
       "..           ...  ...     ...             ...\n",
       "394          213   68      UK   Gloria Miller\n",
       "401          217   28     USA    Shelby Gomez\n",
       "419          227   37     USA     Aaron Mckee\n",
       "428          233   28      UK  Samantha Smith\n",
       "436          237   63     USA      Donna Bird\n",
       "\n",
       "[35 rows x 4 columns]"
      ]
     },
     "execution_count": 212,
     "metadata": {},
     "output_type": "execute_result"
    }
   ],
   "source": [
    "##customers not appearing both shipping and orders\n",
    "cust_ord_ship=pd.merge(shipping,cust_ord,on='customer_id',how='right')\n",
    "cust_ord_ship.loc[cust_ord_ship['order_id'].isnull()& cust_ord_ship['shipping_id'].isnull(),['customer_id','age','country','full_name']].drop_duplicates()"
   ]
  },
  {
   "cell_type": "code",
   "execution_count": 220,
   "metadata": {},
   "outputs": [
    {
     "data": {
      "text/plain": [
       "94"
      ]
     },
     "execution_count": 220,
     "metadata": {},
     "output_type": "execute_result"
    }
   ],
   "source": [
    "## orders who don't have shipment details \n",
    "\n",
    "order.loc[~order['customer_id'].isin(shipping['customer_id']), ['order_id']].shape[0]"
   ]
  },
  {
   "cell_type": "markdown",
   "metadata": {},
   "source": [
    "conclusion:\n",
    "<ul>\n",
    "<li>there are total 35 customers who neither placed an order or thier orders are shipped</li>\n",
    "<li>There are total 90 customers who didn't place an order</li>\n",
    "<li>there are total 98 customers who are not in shipping Table</li>\n",
    "<li>there are total 94 orders whose shipment details are missing</li>\n",
    "</ul>\n",
    "details are given in the document provided"
   ]
  }
 ],
 "metadata": {
  "kernelspec": {
   "display_name": "salesenv",
   "language": "python",
   "name": "python3"
  },
  "language_info": {
   "codemirror_mode": {
    "name": "ipython",
    "version": 3
   },
   "file_extension": ".py",
   "mimetype": "text/x-python",
   "name": "python",
   "nbconvert_exporter": "python",
   "pygments_lexer": "ipython3",
   "version": "3.10.14"
  }
 },
 "nbformat": 4,
 "nbformat_minor": 2
}
